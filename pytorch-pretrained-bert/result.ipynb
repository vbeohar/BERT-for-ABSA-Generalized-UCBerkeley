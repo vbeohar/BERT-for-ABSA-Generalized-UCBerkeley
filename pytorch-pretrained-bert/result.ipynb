{
 "cells": [
  {
   "cell_type": "code",
   "execution_count": null,
   "metadata": {},
   "outputs": [],
   "source": [
    "tasks=[\"rrc\", \"ae\", \"asc\"]\n",
    "berts=[\"pt\"]\n",
    "domains=[\"laptop\", \"rest\"]\n",
    "runs=10\n",
    "testing=True\n",
    "%run eval/eval.ipynb"
   ]
  },
  {
   "cell_type": "code",
   "execution_count": 7,
   "metadata": {},
   "outputs": [
    {
     "name": "stdout",
     "output_type": "stream",
     "text": [
      "The score obtained is ['0.83909774']\n",
      "The score obtained is ['0.83670294']\n",
      "The score obtained is ['0.83307576']\n",
      "The score obtained is ['0.83219445']\n",
      "The score obtained is ['0.8562738']\n",
      "The score obtained is ['0.85235924']\n",
      "The score obtained is ['0.8410647']\n",
      "The score obtained is ['0.8432268']\n",
      "The score obtained is ['0.83208394']\n",
      "ae_review : pt laptop 84.07\n"
     ]
    }
   ],
   "source": [
    "tasks=[\"ae_review\"]\n",
    "berts=[\"pt\"]\n",
    "domains=[\"laptop\"]\n",
    "runs=10\n",
    "testing=True\n",
    "%run eval/eval.ipynb"
   ]
  },
  {
   "cell_type": "code",
   "execution_count": 1,
   "metadata": {},
   "outputs": [
    {
     "name": "stdout",
     "output_type": "stream",
     "text": [
      "asc_review : pt laptop metric 0 77.52\n",
      "asc_review : pt laptop metric 1 74.36\n"
     ]
    }
   ],
   "source": [
    "tasks=[\"asc_review\"]\n",
    "berts=[\"pt\"]\n",
    "domains=[\"laptop\"]\n",
    "runs=10\n",
    "testing=True\n",
    "%run eval/eval.ipynb"
   ]
  },
  {
   "cell_type": "code",
   "execution_count": 5,
   "metadata": {},
   "outputs": [
    {
     "name": "stdout",
     "output_type": "stream",
     "text": [
      "The score obtained is ['0.7694728']\n",
      "The score obtained is ['0.77950305']\n",
      "The score obtained is ['0.7909868']\n",
      "The score obtained is ['0.7914013']\n",
      "The score obtained is ['0.77505916']\n",
      "The score obtained is ['0.7797123']\n",
      "The score obtained is ['0.78117645']\n",
      "The score obtained is ['0.76562494']\n",
      "The score obtained is ['0.77227724']\n",
      "The score obtained is ['0.75889975']\n",
      "ae_review : pt rest 77.64\n"
     ]
    }
   ],
   "source": [
    "#For restaurant\n",
    "tasks=[\"ae_review\"]\n",
    "berts=[\"pt\"]\n",
    "domains=[\"rest\"]\n",
    "runs=10\n",
    "testing=True\n",
    "%run eval/eval.ipynb"
   ]
  },
  {
   "cell_type": "code",
   "execution_count": 6,
   "metadata": {},
   "outputs": [
    {
     "name": "stdout",
     "output_type": "stream",
     "text": [
      "asc_review : pt rest metric 0 82.07\n",
      "asc_review : pt rest metric 1 72.04\n"
     ]
    }
   ],
   "source": [
    "tasks=[\"asc_review\"]\n",
    "berts=[\"pt\"]\n",
    "domains=[\"rest\"]\n",
    "runs=10\n",
    "testing=True\n",
    "%run eval/eval.ipynb"
   ]
  },
  {
   "cell_type": "code",
   "execution_count": null,
   "metadata": {},
   "outputs": [],
   "source": []
  }
 ],
 "metadata": {
  "environment": {
   "kernel": "python3",
   "name": "tf2-gpu.2-7.m84",
   "type": "gcloud",
   "uri": "gcr.io/deeplearning-platform-release/tf2-gpu.2-7:m84"
  },
  "kernelspec": {
   "display_name": "Python 3 (ipykernel)",
   "language": "python",
   "name": "python3"
  },
  "language_info": {
   "codemirror_mode": {
    "name": "ipython",
    "version": 3
   },
   "file_extension": ".py",
   "mimetype": "text/x-python",
   "name": "python",
   "nbconvert_exporter": "python",
   "pygments_lexer": "ipython3",
   "version": "3.9.7"
  }
 },
 "nbformat": 4,
 "nbformat_minor": 4
}
