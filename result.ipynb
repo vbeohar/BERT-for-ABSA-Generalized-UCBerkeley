{
 "cells": [
  {
   "cell_type": "code",
   "execution_count": 8,
   "metadata": {},
   "outputs": [
    {
     "name": "stdout",
     "output_type": "stream",
     "text": [
      "running...\n",
      "ae : pt laptop 71.9\n",
      "array([69.739777, 75.77829 , 73.54056 , 70.43931 , 73.84382 , 70.342773,\n",
      "       70.632535, 70.977443, 71.841705])\n",
      "ae : pt rest 60.01\n",
      "array([61.20826 , 61.67763 , 57.78854 , 60.765547, 59.76096 , 59.320635,\n",
      "       59.2775  , 61.247945, 59.000003])\n"
     ]
    }
   ],
   "source": [
    "tasks=[\"ae\"]\n",
    "berts=[\"pt\"]\n",
    "domains=[\"laptop\", \"rest\"]\n",
    "runs=9\n",
    "testing=True\n",
    "%run eval/eval.ipynb"
   ]
  },
  {
   "cell_type": "code",
   "execution_count": 21,
   "metadata": {},
   "outputs": [
    {
     "name": "stdout",
     "output_type": "stream",
     "text": [
      "running...\n",
      "asc : rob rest metric 0 86.25\n",
      "array([[84.82142857, 77.26539575],\n",
      "       [87.23214286, 81.30002723],\n",
      "       [85.26785714, 78.29550319],\n",
      "       [86.51785714, 80.50508332],\n",
      "       [87.76785714, 81.92566415],\n",
      "       [86.25      , 79.24659822],\n",
      "       [85.26785714, 78.33563042],\n",
      "       [86.96428571, 81.0515349 ],\n",
      "       [86.16071429, 79.46416556]])\n",
      "asc : rob rest metric 1 79.71\n",
      "array([[84.82142857, 77.26539575],\n",
      "       [87.23214286, 81.30002723],\n",
      "       [85.26785714, 78.29550319],\n",
      "       [86.51785714, 80.50508332],\n",
      "       [87.76785714, 81.92566415],\n",
      "       [86.25      , 79.24659822],\n",
      "       [85.26785714, 78.33563042],\n",
      "       [86.96428571, 81.0515349 ],\n",
      "       [86.16071429, 79.46416556]])\n"
     ]
    }
   ],
   "source": [
    "tasks=[\"asc\"]\n",
    "berts=[\"rob\"]\n",
    "domains=[\"rest\"]\n",
    "runs=9\n",
    "testing=True\n",
    "%run eval/eval.ipynb"
   ]
  },
  {
   "cell_type": "code",
   "execution_count": 22,
   "metadata": {},
   "outputs": [
    {
     "name": "stdout",
     "output_type": "stream",
     "text": [
      "running...\n",
      "asc : rob laptop metric 0 80.23\n",
      "array([[80.2507837 , 77.77040617],\n",
      "       [79.15360502, 76.7647516 ],\n",
      "       [81.34796238, 79.20965137],\n",
      "       [79.93730408, 76.86813268],\n",
      "       [80.09404389, 77.52298597],\n",
      "       [80.87774295, 78.435591  ],\n",
      "       [78.36990596, 75.08598537],\n",
      "       [82.28840125, 79.9864782 ],\n",
      "       [79.78056426, 76.8083001 ]])\n",
      "asc : rob laptop metric 1 77.61\n",
      "array([[80.2507837 , 77.77040617],\n",
      "       [79.15360502, 76.7647516 ],\n",
      "       [81.34796238, 79.20965137],\n",
      "       [79.93730408, 76.86813268],\n",
      "       [80.09404389, 77.52298597],\n",
      "       [80.87774295, 78.435591  ],\n",
      "       [78.36990596, 75.08598537],\n",
      "       [82.28840125, 79.9864782 ],\n",
      "       [79.78056426, 76.8083001 ]])\n"
     ]
    }
   ],
   "source": [
    "tasks=[\"asc\"]\n",
    "berts=[\"rob\"]\n",
    "domains=[\"laptop\"]\n",
    "runs=9\n",
    "testing=True\n",
    "%run eval/eval.ipynb"
   ]
  },
  {
   "cell_type": "code",
   "execution_count": 65,
   "metadata": {},
   "outputs": [
    {
     "name": "stdout",
     "output_type": "stream",
     "text": [
      "running...\n",
      "['0.80813015']\n",
      "['0.81030446']\n",
      "['0.8073249']\n",
      "['0.8038125']\n",
      "['0.8050713']\n",
      "['0.7942812']\n",
      "['0.8025682']\n",
      "['0.8022418']\n",
      "['0.8210863']\n",
      "ae : rob rest 80.61\n",
      "array([80.813015, 81.030446, 80.73249 , 80.38125 , 80.50713 , 79.42812 ,\n",
      "       80.25682 , 80.22418 , 82.10863 ])\n"
     ]
    }
   ],
   "source": [
    "tasks=[\"ae\"]\n",
    "berts=[\"rob\"]\n",
    "domains=[\"rest\"]\n",
    "runs=9\n",
    "testing=True\n",
    "%run eval/eval.ipynb"
   ]
  },
  {
   "cell_type": "code",
   "execution_count": 66,
   "metadata": {},
   "outputs": [
    {
     "name": "stdout",
     "output_type": "stream",
     "text": [
      "running...\n",
      "['0.81642133']\n",
      "['0.8136646']\n",
      "['0.83139086']\n",
      "['0.8342412']\n",
      "['0.8209539']\n",
      "['0.82435596']\n",
      "['0.8245342']\n",
      "['0.8302181']\n",
      "['0.8372093']\n",
      "ae : rob laptop 82.59\n",
      "array([81.642133, 81.36646 , 83.139086, 83.42412 , 82.09539 , 82.435596,\n",
      "       82.45342 , 83.02181 , 83.72093 ])\n"
     ]
    }
   ],
   "source": [
    "tasks=[\"ae\"]\n",
    "berts=[\"rob\"]\n",
    "domains=[\"laptop\"]\n",
    "runs=9\n",
    "testing=True\n",
    "%run eval/eval.ipynb"
   ]
  },
  {
   "cell_type": "code",
   "execution_count": 75,
   "metadata": {},
   "outputs": [
    {
     "name": "stdout",
     "output_type": "stream",
     "text": [
      "running...\n",
      "['0.7847114']\n",
      "['0.7852664']\n",
      "['0.80190164']\n",
      "['0.78180414']\n",
      "['0.7980769']\n",
      "['0.79613215']\n",
      "['0.79715866']\n",
      "['0.8088819']\n",
      "['0.7993706']\n",
      "ae : robopt rest 79.48\n",
      "array([78.47114 , 78.52664 , 80.190164, 78.180414, 79.80769 , 79.613215,\n",
      "       79.715866, 80.88819 , 79.93706 ])\n"
     ]
    }
   ],
   "source": [
    "tasks=[\"ae\"]\n",
    "berts=[\"robopt\"]\n",
    "domains=[\"rest\"]\n",
    "runs=9\n",
    "testing=True\n",
    "%run eval/eval.ipynb"
   ]
  },
  {
   "cell_type": "code",
   "execution_count": 76,
   "metadata": {},
   "outputs": [
    {
     "name": "stdout",
     "output_type": "stream",
     "text": [
      "running...\n",
      "['0.8127428']\n",
      "['0.82785606']\n",
      "['0.8143075']\n",
      "['0.81642133']\n",
      "['0.8215121']\n",
      "['0.81493']\n",
      "['0.81972265']\n",
      "['0.8234387']\n",
      "['0.82551885']\n",
      "ae : robopt laptop 81.96\n",
      "array([81.27428 , 82.785606, 81.43075 , 81.642133, 82.15121 , 81.493   ,\n",
      "       81.972265, 82.34387 , 82.551885])\n"
     ]
    }
   ],
   "source": [
    "tasks=[\"ae\"]\n",
    "berts=[\"robopt\"]\n",
    "domains=[\"laptop\"]\n",
    "runs=9\n",
    "testing=True\n",
    "%run eval/eval.ipynb"
   ]
  },
  {
   "cell_type": "code",
   "execution_count": 80,
   "metadata": {},
   "outputs": [
    {
     "name": "stdout",
     "output_type": "stream",
     "text": [
      "running...\n",
      "asc : robopt rest metric 0 84.53\n",
      "array([[85.89285714, 79.12156853],\n",
      "       [84.73214286, 77.54470529],\n",
      "       [85.35714286, 78.60138128],\n",
      "       [85.89285714, 78.76502408],\n",
      "       [84.01785714, 75.7290411 ],\n",
      "       [82.23214286, 73.34682273],\n",
      "       [81.33928571, 71.96711866],\n",
      "       [87.05357143, 81.58197513],\n",
      "       [84.28571429, 76.88458789]])\n",
      "asc : robopt rest metric 1 77.06\n",
      "array([[85.89285714, 79.12156853],\n",
      "       [84.73214286, 77.54470529],\n",
      "       [85.35714286, 78.60138128],\n",
      "       [85.89285714, 78.76502408],\n",
      "       [84.01785714, 75.7290411 ],\n",
      "       [82.23214286, 73.34682273],\n",
      "       [81.33928571, 71.96711866],\n",
      "       [87.05357143, 81.58197513],\n",
      "       [84.28571429, 76.88458789]])\n"
     ]
    }
   ],
   "source": [
    "tasks=[\"asc\"]\n",
    "berts=[\"robopt\"]\n",
    "domains=[\"rest\"]\n",
    "runs=9\n",
    "testing=True\n",
    "%run eval/eval.ipynb"
   ]
  },
  {
   "cell_type": "code",
   "execution_count": 81,
   "metadata": {},
   "outputs": [
    {
     "name": "stdout",
     "output_type": "stream",
     "text": [
      "running...\n",
      "asc : robopt laptop metric 0 78.46\n",
      "array([[74.45141066, 71.45632937],\n",
      "       [77.89968652, 74.98850791],\n",
      "       [80.56426332, 77.23610557],\n",
      "       [78.21316614, 75.15544043],\n",
      "       [80.56426332, 77.57769648],\n",
      "       [78.52664577, 75.23382296],\n",
      "       [78.9968652 , 76.66058026],\n",
      "       [78.52664577, 75.27543838],\n",
      "       [78.36990596, 75.35671574]])\n",
      "asc : robopt laptop metric 1 75.44\n",
      "array([[74.45141066, 71.45632937],\n",
      "       [77.89968652, 74.98850791],\n",
      "       [80.56426332, 77.23610557],\n",
      "       [78.21316614, 75.15544043],\n",
      "       [80.56426332, 77.57769648],\n",
      "       [78.52664577, 75.23382296],\n",
      "       [78.9968652 , 76.66058026],\n",
      "       [78.52664577, 75.27543838],\n",
      "       [78.36990596, 75.35671574]])\n"
     ]
    }
   ],
   "source": [
    "tasks=[\"asc\"]\n",
    "berts=[\"robopt\"]\n",
    "domains=[\"laptop\"]\n",
    "runs=9\n",
    "testing=True\n",
    "%run eval/eval.ipynb"
   ]
  },
  {
   "cell_type": "code",
   "execution_count": 83,
   "metadata": {},
   "outputs": [
    {
     "name": "stdout",
     "output_type": "stream",
     "text": [
      "running...\n",
      "['0.8186687']\n",
      "['0.80525506']\n",
      "['0.818323']\n",
      "['0.8174727']\n",
      "['0.8133748']\n",
      "['0.7996918']\n",
      "['0.81504226']\n",
      "['0.8198758']\n",
      "['0.81585085']\n",
      "ae : robeight laptop 81.37\n",
      "array([81.86687 , 80.525506, 81.8323  , 81.74727 , 81.33748 , 79.96918 ,\n",
      "       81.504226, 81.98758 , 81.585085])\n"
     ]
    }
   ],
   "source": [
    "tasks=[\"ae\"]\n",
    "berts=[\"robeight\"]\n",
    "domains=[\"laptop\"]\n",
    "runs=9\n",
    "testing=True\n",
    "%run eval/eval.ipynb"
   ]
  },
  {
   "cell_type": "code",
   "execution_count": 84,
   "metadata": {},
   "outputs": [
    {
     "name": "stdout",
     "output_type": "stream",
     "text": [
      "running...\n",
      "['0.79047626']\n",
      "['0.8133971']\n",
      "['0.78075707']\n",
      "['0.7911741']\n",
      "['0.8016']\n",
      "['0.783848']\n",
      "['0.790625']\n",
      "['0.80287313']\n",
      "['0.80790514']\n",
      "ae : robeight rest 79.59\n",
      "array([79.047626, 81.33971 , 78.075707, 79.11741 , 80.16    , 78.3848  ,\n",
      "       79.0625  , 80.287313, 80.790514])\n"
     ]
    }
   ],
   "source": [
    "tasks=[\"ae\"]\n",
    "berts=[\"robeight\"]\n",
    "domains=[\"rest\"]\n",
    "runs=9\n",
    "testing=True\n",
    "%run eval/eval.ipynb"
   ]
  },
  {
   "cell_type": "code",
   "execution_count": 86,
   "metadata": {},
   "outputs": [
    {
     "name": "stdout",
     "output_type": "stream",
     "text": [
      "running...\n",
      "asc : robeight rest metric 0 84.42\n",
      "array([[82.85714286, 74.09991555],\n",
      "       [85.98214286, 79.05283769]])\n",
      "asc : robeight rest metric 1 76.58\n",
      "array([[82.85714286, 74.09991555],\n",
      "       [85.98214286, 79.05283769]])\n"
     ]
    }
   ],
   "source": [
    "tasks=[\"asc\"]\n",
    "berts=[\"robeight\"]\n",
    "domains=[\"rest\"]\n",
    "runs=2\n",
    "testing=True\n",
    "%run eval/eval.ipynb"
   ]
  },
  {
   "cell_type": "code",
   "execution_count": 87,
   "metadata": {},
   "outputs": [
    {
     "name": "stdout",
     "output_type": "stream",
     "text": [
      "running...\n",
      "asc : robeight laptop metric 0 76.96\n",
      "array([[76.95924765, 73.17030858]])\n",
      "asc : robeight laptop metric 1 73.17\n",
      "array([[76.95924765, 73.17030858]])\n"
     ]
    }
   ],
   "source": [
    "tasks=[\"asc\"]\n",
    "berts=[\"robeight\"]\n",
    "domains=[\"laptop\"]\n",
    "runs=1\n",
    "testing=True\n",
    "%run eval/eval.ipynb"
   ]
  },
  {
   "cell_type": "code",
   "execution_count": 100,
   "metadata": {},
   "outputs": [
    {
     "name": "stdout",
     "output_type": "stream",
     "text": [
      "running...\n",
      "['0.8203125']\n",
      "['0.82051283']\n",
      "['0.8095238']\n",
      "['0.81881267']\n",
      "['0.795031']\n",
      "ae : robp laptop 81.28\n",
      "array([82.03125 , 82.051283, 80.95238 , 81.881267, 79.5031  ])\n"
     ]
    }
   ],
   "source": [
    "tasks=[\"ae\"]\n",
    "berts=[\"robp\"]\n",
    "domains=[\"laptop\"]\n",
    "runs=5\n",
    "testing=True\n",
    "%run eval/eval.ipynb"
   ]
  },
  {
   "cell_type": "code",
   "execution_count": 97,
   "metadata": {},
   "outputs": [
    {
     "name": "stdout",
     "output_type": "stream",
     "text": [
      "running...\n",
      "['0.80378246']\n",
      "['0.7896389']\n",
      "['0.78083265']\n",
      "['0.78660434']\n",
      "['0.78295815']\n",
      "ae : robp rest 78.88\n",
      "array([80.378246, 78.96389 , 78.083265, 78.660434, 78.295815])\n"
     ]
    }
   ],
   "source": [
    "tasks=[\"ae\"]\n",
    "berts=[\"robp\"]\n",
    "domains=[\"rest\"]\n",
    "runs=5\n",
    "testing=True\n",
    "%run eval/eval.ipynb"
   ]
  },
  {
   "cell_type": "code",
   "execution_count": 105,
   "metadata": {},
   "outputs": [
    {
     "name": "stdout",
     "output_type": "stream",
     "text": [
      "running...\n",
      "asc : robp laptop metric 0 78.21\n",
      "array([[76.17554859, 72.02931373],\n",
      "       [79.15360502, 76.64244942],\n",
      "       [79.31034483, 76.324645  ],\n",
      "       [77.11598746, 73.89623151],\n",
      "       [79.31034483, 76.17144332]])\n",
      "asc : robp laptop metric 1 75.01\n",
      "array([[76.17554859, 72.02931373],\n",
      "       [79.15360502, 76.64244942],\n",
      "       [79.31034483, 76.324645  ],\n",
      "       [77.11598746, 73.89623151],\n",
      "       [79.31034483, 76.17144332]])\n"
     ]
    }
   ],
   "source": [
    "tasks=[\"asc\"]\n",
    "berts=[\"robp\"]\n",
    "domains=[\"laptop\"]\n",
    "runs=5\n",
    "testing=True\n",
    "%run eval/eval.ipynb"
   ]
  },
  {
   "cell_type": "code",
   "execution_count": 103,
   "metadata": {},
   "outputs": [
    {
     "name": "stdout",
     "output_type": "stream",
     "text": [
      "running...\n",
      "asc : robp rest metric 0 84.86\n",
      "array([[84.91071429, 77.89040095],\n",
      "       [84.28571429, 76.84524771],\n",
      "       [86.07142857, 79.6757627 ],\n",
      "       [85.08928571, 77.72989376],\n",
      "       [83.92857143, 76.25326117]])\n",
      "asc : robp rest metric 1 77.68\n",
      "array([[84.91071429, 77.89040095],\n",
      "       [84.28571429, 76.84524771],\n",
      "       [86.07142857, 79.6757627 ],\n",
      "       [85.08928571, 77.72989376],\n",
      "       [83.92857143, 76.25326117]])\n"
     ]
    }
   ],
   "source": [
    "tasks=[\"asc\"]\n",
    "berts=[\"robp\"]\n",
    "domains=[\"rest\"]\n",
    "runs=5\n",
    "testing=True\n",
    "%run eval/eval.ipynb"
   ]
  }
 ],
 "metadata": {
  "celltoolbar": "Slideshow",
  "environment": {
   "name": "tf2-gpu.2-6.m81",
   "type": "gcloud",
   "uri": "gcr.io/deeplearning-platform-release/tf2-gpu.2-6:m81"
  },
  "kernelspec": {
   "display_name": "Python 3",
   "language": "python",
   "name": "python3"
  },
  "language_info": {
   "codemirror_mode": {
    "name": "ipython",
    "version": 3
   },
   "file_extension": ".py",
   "mimetype": "text/x-python",
   "name": "python",
   "nbconvert_exporter": "python",
   "pygments_lexer": "ipython3",
   "version": "3.7.10"
  }
 },
 "nbformat": 4,
 "nbformat_minor": 4
}
