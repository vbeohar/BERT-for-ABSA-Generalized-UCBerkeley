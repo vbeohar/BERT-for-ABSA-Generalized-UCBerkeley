{
 "cells": [
  {
   "cell_type": "code",
   "execution_count": 12,
   "metadata": {},
   "outputs": [],
   "source": [
    "import json\n",
    "import os\n",
    "import sklearn.metrics\n",
    "import numpy as np\n",
    "from pprint import pprint"
   ]
  },
  {
   "cell_type": "code",
   "execution_count": 1,
   "metadata": {},
   "outputs": [],
   "source": [
    "def evaluate(tasks, berts, domains, runs=10, testing=None):\n",
    "    print(\"running...\")\n",
    "    for task in tasks:\n",
    "        for bert in berts:\n",
    "            for domain in domains:            \n",
    "                for new_run in range(1, 10):\n",
    "                    scores=[]\n",
    "                    for run in range(1, runs+1):\n",
    "                        DATA_DIR=os.path.join(task, domain)\n",
    "                        print(DATA_DIR)\n",
    "                        \n",
    "                        if testing:\n",
    "                            OUTPUT_DIR=os.path.join(\"run\", bert+\"_\"+task, domain, str(run))\n",
    "                            print(OUTPUT_DIR)\n",
    "                        else:\n",
    "                            OUTPUT_DIR=os.path.join(\"run\", bert+\"_\"+task, domain, str(new_run), str(run))\n",
    "                            print(OUTPUT_DIR)\n",
    "                        # if os.path.exists(os.path.join(OUTPUT_DIR, \"predictions.json\") ):\n",
    "                        if \"rrc\" in task:\n",
    "                            ret=!python eval/evaluate-v1.1.py $DATA_DIR/test.json $OUTPUT_DIR/predictions.json\n",
    "                            score=json.loads(ret[0])\n",
    "                            scores.append([score[\"exact_match\"], score[\"f1\"] ] )\n",
    "                        elif \"ae\" in task:\n",
    "                            ret=!python eval/evaluate_ae.py --pred_json $OUTPUT_DIR/predictions.json\n",
    "                            # print(scores)\n",
    "                            scores.append(float(ret[0])*100 )\n",
    "                        elif \"asc\" in task:\n",
    "                            with open(os.path.join(OUTPUT_DIR, \"predictions.json\") ) as f:\n",
    "                                results=json.load(f)\n",
    "                            y_true=results['label_ids']\n",
    "                            y_pred=[np.argmax(logit) for logit in results['logits'] ]\n",
    "                            p_macro, r_macro, f_macro, _=sklearn.metrics.precision_recall_fscore_support(y_true, y_pred, average='macro')\n",
    "                            f_macro = 2*p_macro*r_macro/(p_macro+r_macro)\n",
    "                            scores.append([100*sklearn.metrics.accuracy_score(y_true, y_pred), 100*f_macro ] )\n",
    "                        else:\n",
    "                            raise Exception(\"unknown task\")\n",
    "                    scores=np.array(scores)\n",
    "                    m=scores.mean(axis=0)\n",
    "\n",
    "                    if len(scores.shape)>1:\n",
    "                        for iz, score in enumerate(m):\n",
    "                            print(task, \":\", bert, domain, \"metric\", iz, round(score, 2))\n",
    "                            pprint(scores)\n",
    "                            if testing:\n",
    "                                np.savetxt(task + '_' + domain + '_ftb_test.csv', scores, delimiter=',')\n",
    "                            else:\n",
    "                                np.savetxt(str(new_run) + '_' + task + '_' + domain + '_ftb_valid.csv', scores, delimiter=',')\n",
    "                    else:\n",
    "                        np.savetxt(task + '_' + domain + '_ftb_test.csv', scores, delimiter=',')\n",
    "                        print(task, \":\", bert, domain, round(m,2))\n",
    "                        pprint(scores)\n",
    "                        break\n"
   ]
  },
  {
   "cell_type": "code",
   "execution_count": 29,
   "metadata": {},
   "outputs": [
    {
     "name": "stdout",
     "output_type": "stream",
     "text": [
      "running...\n",
      "Using datadir of ae/laptop\n",
      "Using outputdir of run/pt_ae/laptop/1/predictions.json\n",
      "ae\n",
      "running run/pt_ae/laptop/1\n",
      "got ['Traceback (most recent call last):', '  File \"../eval/evaluate_ae.py\", line 174, in <module>', '    print(evaluate(args.pred_json, command, template) )', '  File \"../eval/evaluate_ae.py\", line 157, in evaluate', '    label_laptop_xml(template, command[4], pred_json[\"raw_X\"], y_pred)', '  File \"../eval/evaluate_ae.py\", line 74, in label_laptop_xml', '    dom=ET.parse(fn)', '  File \"/opt/conda/lib/python3.7/xml/etree/ElementTree.py\", line 1197, in parse', '    tree.parse(source, parser)', '  File \"/opt/conda/lib/python3.7/xml/etree/ElementTree.py\", line 587, in parse', '    source = open(source, \"rb\")', \"FileNotFoundError: [Errno 2] No such file or directory: 'ae/official_data/Laptops_Test_Data_PhaseA.xml'\"]\n"
     ]
    },
    {
     "ename": "ValueError",
     "evalue": "could not convert string to float: 'Traceback (most recent call last):'",
     "output_type": "error",
     "traceback": [
      "\u001b[0;31m---------------------------------------------------------------------------\u001b[0m",
      "\u001b[0;31mValueError\u001b[0m                                Traceback (most recent call last)",
      "\u001b[0;32m/tmp/ipykernel_6801/1633901690.py\u001b[0m in \u001b[0;36m<module>\u001b[0;34m\u001b[0m\n\u001b[0;32m----> 1\u001b[0;31m \u001b[0mevaluate\u001b[0m\u001b[0;34m(\u001b[0m\u001b[0mtasks\u001b[0m\u001b[0;34m,\u001b[0m \u001b[0mberts\u001b[0m\u001b[0;34m,\u001b[0m \u001b[0mdomains\u001b[0m\u001b[0;34m,\u001b[0m \u001b[0mruns\u001b[0m\u001b[0;34m,\u001b[0m \u001b[0mtesting\u001b[0m\u001b[0;34m)\u001b[0m\u001b[0;34m\u001b[0m\u001b[0;34m\u001b[0m\u001b[0m\n\u001b[0m",
      "\u001b[0;32m/tmp/ipykernel_6801/3444676679.py\u001b[0m in \u001b[0;36mevaluate\u001b[0;34m(tasks, berts, domains, runs, testing)\u001b[0m\n\u001b[1;32m     26\u001b[0m                             \u001b[0mret\u001b[0m\u001b[0;34m=\u001b[0m\u001b[0mget_ipython\u001b[0m\u001b[0;34m(\u001b[0m\u001b[0;34m)\u001b[0m\u001b[0;34m.\u001b[0m\u001b[0mgetoutput\u001b[0m\u001b[0;34m(\u001b[0m\u001b[0;34m'python ../eval/evaluate_ae.py --pred_json ../$OUTPUT_DIR/predictions.json'\u001b[0m\u001b[0;34m)\u001b[0m\u001b[0;34m\u001b[0m\u001b[0;34m\u001b[0m\u001b[0m\n\u001b[1;32m     27\u001b[0m                             \u001b[0mprint\u001b[0m\u001b[0;34m(\u001b[0m\u001b[0;34mf\"got {ret}\"\u001b[0m\u001b[0;34m)\u001b[0m\u001b[0;34m\u001b[0m\u001b[0;34m\u001b[0m\u001b[0m\n\u001b[0;32m---> 28\u001b[0;31m                             \u001b[0mscores\u001b[0m\u001b[0;34m.\u001b[0m\u001b[0mappend\u001b[0m\u001b[0;34m(\u001b[0m\u001b[0mfloat\u001b[0m\u001b[0;34m(\u001b[0m\u001b[0mret\u001b[0m\u001b[0;34m[\u001b[0m\u001b[0;36m0\u001b[0m\u001b[0;34m]\u001b[0m\u001b[0;34m)\u001b[0m\u001b[0;34m*\u001b[0m\u001b[0;36m100\u001b[0m \u001b[0;34m)\u001b[0m\u001b[0;34m\u001b[0m\u001b[0;34m\u001b[0m\u001b[0m\n\u001b[0m\u001b[1;32m     29\u001b[0m                         \u001b[0;32melif\u001b[0m \u001b[0;34m\"asc\"\u001b[0m \u001b[0;32min\u001b[0m \u001b[0mtask\u001b[0m\u001b[0;34m:\u001b[0m\u001b[0;34m\u001b[0m\u001b[0;34m\u001b[0m\u001b[0m\n\u001b[1;32m     30\u001b[0m                             \u001b[0mprint\u001b[0m\u001b[0;34m(\u001b[0m\u001b[0;34m\"asc\"\u001b[0m\u001b[0;34m)\u001b[0m\u001b[0;34m\u001b[0m\u001b[0;34m\u001b[0m\u001b[0m\n",
      "\u001b[0;31mValueError\u001b[0m: could not convert string to float: 'Traceback (most recent call last):'"
     ]
    }
   ],
   "source": [
    "evaluate(tasks, berts, domains, runs, testing)"
   ]
  }
 ],
 "metadata": {
  "environment": {
   "name": "tf2-gpu.2-6.m81",
   "type": "gcloud",
   "uri": "gcr.io/deeplearning-platform-release/tf2-gpu.2-6:m81"
  },
  "kernelspec": {
   "display_name": "Python 3",
   "language": "python",
   "name": "python3"
  },
  "language_info": {
   "codemirror_mode": {
    "name": "ipython",
    "version": 3
   },
   "file_extension": ".py",
   "mimetype": "text/x-python",
   "name": "python",
   "nbconvert_exporter": "python",
   "pygments_lexer": "ipython3",
   "version": "3.7.10"
  }
 },
 "nbformat": 4,
 "nbformat_minor": 4
}
